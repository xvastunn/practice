{
 "cells": [
  {
   "cell_type": "code",
   "execution_count": null,
   "id": "c1225ac4-f631-4cd4-9b91-addd26c98d55",
   "metadata": {
    "scrolled": true
   },
   "outputs": [],
   "source": "0+6"
  }
 ],
 "metadata": {
  "kernelspec": {
   "display_name": "Python 3 (ipykernel)",
   "language": "python",
   "name": "python3"
  },
  "language_info": {
   "codemirror_mode": {
    "name": "ipython",
    "version": 3
   },
   "file_extension": ".py",
   "mimetype": "text/x-python",
   "name": "python",
   "nbconvert_exporter": "python",
   "pygments_lexer": "ipython3",
   "version": "3.13.7"
  }
 },
 "nbformat": 4,
 "nbformat_minor": 5
}
