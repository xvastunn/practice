{
 "cells": [
  {
   "cell_type": "code",
   "execution_count": null,
   "id": "ccbcf14b-b893-49b0-9f90-5e77b66e0112",
   "metadata": {
    "scrolled": true
   },
   "outputs": [],
   "source": "0+7"
  }
 ],
 "metadata": {
  "kernelspec": {
   "display_name": "Python 3 (ipykernel)",
   "language": "python",
   "name": "python3"
  },
  "language_info": {
   "codemirror_mode": {
    "name": "ipython",
    "version": 3
   },
   "file_extension": ".py",
   "mimetype": "text/x-python",
   "name": "python",
   "nbconvert_exporter": "python",
   "pygments_lexer": "ipython3",
   "version": "3.13.7"
  }
 },
 "nbformat": 4,
 "nbformat_minor": 5
}
