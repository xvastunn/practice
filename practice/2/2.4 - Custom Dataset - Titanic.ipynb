{
 "cells": [
  {
   "cell_type": "markdown",
   "id": "16a71396-12bc-4265-a1db-b07c91293384",
   "metadata": {},
   "source": [
    "## Titanic dataset"
   ]
  },
  {
   "cell_type": "code",
   "execution_count": null,
   "id": "01790d0d-3d66-4ea7-9db4-8b20211f9ab5",
   "metadata": {},
   "outputs": [],
   "source": [
    "import numpy as np\n",
    "import pandas as pd"
   ]
  },
  {
   "cell_type": "code",
   "execution_count": null,
   "id": "df0cc2c8-80ea-4738-8165-3b5569500110",
   "metadata": {},
   "outputs": [],
   "source": [
    "#https://www.kaggle.com/c/titanic/data\n",
    "\n",
    "url  = 'https://drive.google.com/uc?id=1ovil6PXNY7h9JMDJ6F97IZVQctmgHfXm'\n",
    "df = pd.read_csv(url)\n",
    "df"
   ]
  },
  {
   "cell_type": "code",
   "execution_count": null,
   "id": "0eb4b171-cb49-4576-b8f4-33ec5297bb17",
   "metadata": {},
   "outputs": [],
   "source": [
    "df.shape"
   ]
  },
  {
   "cell_type": "code",
   "execution_count": null,
   "id": "a442bd86-f540-481c-ae75-a5cb32739114",
   "metadata": {},
   "outputs": [],
   "source": [
    "df.head()"
   ]
  },
  {
   "cell_type": "code",
   "execution_count": null,
   "id": "4b1d70f8-f571-4dbe-8507-b31102c3d7bd",
   "metadata": {},
   "outputs": [],
   "source": [
    "df.describe()"
   ]
  },
  {
   "cell_type": "code",
   "execution_count": null,
   "id": "960aed52-f825-444f-b3d2-778b38e72e49",
   "metadata": {},
   "outputs": [],
   "source": [
    "df[['Age', 'Fare']].describe()"
   ]
  },
  {
   "cell_type": "code",
   "execution_count": null,
   "id": "4c1049db-0aa0-4a7f-a8f1-fdbbb17df9c8",
   "metadata": {},
   "outputs": [],
   "source": [
    "df['Pclass'].value_counts()"
   ]
  },
  {
   "cell_type": "code",
   "execution_count": null,
   "id": "620aa1c6-2007-48cc-aab0-5db7c7e7c031",
   "metadata": {},
   "outputs": [],
   "source": [
    "df['Sex'].value_counts()"
   ]
  },
  {
   "cell_type": "code",
   "execution_count": null,
   "id": "83daf2f5-0c30-4334-b20d-986a2c685441",
   "metadata": {},
   "outputs": [],
   "source": [
    "df[[\"Sex\", \"Age\"]].groupby(\"Sex\").mean()"
   ]
  }
 ],
 "metadata": {
  "kernelspec": {
   "display_name": "Python 3 (ipykernel)",
   "language": "python",
   "name": "python3"
  },
  "language_info": {
   "codemirror_mode": {
    "name": "ipython",
    "version": 3
   },
   "file_extension": ".py",
   "mimetype": "text/x-python",
   "name": "python",
   "nbconvert_exporter": "python",
   "pygments_lexer": "ipython3",
   "version": "3.13.7"
  }
 },
 "nbformat": 4,
 "nbformat_minor": 5
}
