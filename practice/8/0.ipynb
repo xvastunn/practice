{
 "cells": [
  {
   "cell_type": "code",
   "execution_count": null,
   "id": "eabc342b-bf11-4ddf-82cb-1ded1d70eb08",
   "metadata": {
    "scrolled": true
   },
   "outputs": [],
   "source": "0+8"
  }
 ],
 "metadata": {
  "kernelspec": {
   "display_name": "Python 3 (ipykernel)",
   "language": "python",
   "name": "python3"
  },
  "language_info": {
   "codemirror_mode": {
    "name": "ipython",
    "version": 3
   },
   "file_extension": ".py",
   "mimetype": "text/x-python",
   "name": "python",
   "nbconvert_exporter": "python",
   "pygments_lexer": "ipython3",
   "version": "3.13.7"
  }
 },
 "nbformat": 4,
 "nbformat_minor": 5
}
