{
 "cells": [
  {
   "cell_type": "markdown",
   "id": "1635b6bf-a567-4809-b2bb-111cc33d148c",
   "metadata": {},
   "source": [
    "## Titanic dataset Visualisation with Seaborn"
   ]
  },
  {
   "cell_type": "code",
   "execution_count": null,
   "id": "01790d0d-3d66-4ea7-9db4-8b20211f9ab5",
   "metadata": {},
   "outputs": [],
   "source": [
    "import numpy as np\n",
    "import pandas as pd\n",
    "import seaborn as sns"
   ]
  },
  {
   "cell_type": "code",
   "execution_count": null,
   "id": "df0cc2c8-80ea-4738-8165-3b5569500110",
   "metadata": {},
   "outputs": [],
   "source": [
    "url = 'https://drive.google.com/uc?id=1zyYJMa75UXLjmODPRnl4_UrLJ0JKmEOC'\n",
    "df = pd.read_csv(url)"
   ]
  },
  {
   "cell_type": "markdown",
   "id": "c92b160d-d781-42d5-be30-b0274d337069",
   "metadata": {},
   "source": [
    "### Missing Data"
   ]
  },
  {
   "cell_type": "code",
   "execution_count": null,
   "id": "40feee69-e2df-4e72-9ea3-3964dce577c7",
   "metadata": {},
   "outputs": [],
   "source": [
    "sns.heatmap(df.isnull(), cmap='viridis')"
   ]
  },
  {
   "cell_type": "markdown",
   "id": "fccc2c63-7263-47a4-af64-af690e6f2b1e",
   "metadata": {},
   "source": [
    "### Survived count"
   ]
  },
  {
   "cell_type": "code",
   "execution_count": null,
   "id": "aa9252b4-ca17-4915-a9e6-ce133fe6aacb",
   "metadata": {},
   "outputs": [],
   "source": [
    "# sns.set_style('whitegrid')\n",
    "sns.countplot(x='Survived', data=df)"
   ]
  },
  {
   "cell_type": "markdown",
   "id": "84d39351-7fba-40c4-b982-038d63bea2c5",
   "metadata": {},
   "source": [
    "### Survived by sex"
   ]
  },
  {
   "cell_type": "code",
   "execution_count": null,
   "id": "5a9e7a82-0523-4399-9fb6-6902e8c15f7b",
   "metadata": {},
   "outputs": [],
   "source": [
    "sns.countplot(x='Survived',hue='Sex',data=df)"
   ]
  },
  {
   "cell_type": "markdown",
   "id": "40eeb0b3-90a7-46a0-9399-6eedd42b1fff",
   "metadata": {},
   "source": [
    "### Survived by Cab Class"
   ]
  },
  {
   "cell_type": "code",
   "execution_count": null,
   "id": "ec33f949-451a-40f6-9611-d16686984020",
   "metadata": {},
   "outputs": [],
   "source": [
    "sns.countplot(x='Survived',hue='Pclass',data=df)"
   ]
  },
  {
   "cell_type": "markdown",
   "id": "97068688-a713-4af3-8787-4f82b2dfab1d",
   "metadata": {},
   "source": [
    "### Distribution of age"
   ]
  },
  {
   "cell_type": "code",
   "execution_count": null,
   "id": "f5806f03-931b-4f27-92b9-2789d7c1f525",
   "metadata": {},
   "outputs": [],
   "source": [
    "sns.histplot(df['Age'])"
   ]
  },
  {
   "cell_type": "code",
   "execution_count": null,
   "id": "190859fa-4b16-4b78-ac1f-4494ba139ae3",
   "metadata": {},
   "outputs": [],
   "source": [
    "### Class / Age distribution"
   ]
  },
  {
   "cell_type": "code",
   "execution_count": null,
   "id": "ee8883cb-765c-4112-b5e9-00b2a7bb4c0b",
   "metadata": {},
   "outputs": [],
   "source": [
    "sns.boxplot(\n",
    "    x='Pclass',\n",
    "    y='Age',\n",
    "    data=df\n",
    ")"
   ]
  }
 ],
 "metadata": {
  "kernelspec": {
   "display_name": "Python 3 (ipykernel)",
   "language": "python",
   "name": "python3"
  },
  "language_info": {
   "codemirror_mode": {
    "name": "ipython",
    "version": 3
   },
   "file_extension": ".py",
   "mimetype": "text/x-python",
   "name": "python",
   "nbconvert_exporter": "python",
   "pygments_lexer": "ipython3",
   "version": "3.13.7"
  }
 },
 "nbformat": 4,
 "nbformat_minor": 5
}
